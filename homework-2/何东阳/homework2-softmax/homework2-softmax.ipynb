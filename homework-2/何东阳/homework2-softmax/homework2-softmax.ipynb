{
 "cells": [
  {
   "cell_type": "markdown",
   "source": [
    "# Homework-2: Softmax for MNIST Classification\n",
    "\n",
    "### In this homework, you need to\n",
    "- ### implement and apply a softmax classifier to perform digits classification."
   ],
   "metadata": {}
  },
  {
   "cell_type": "code",
   "execution_count": 4,
   "source": [
    "import os,sys\n",
    "import numpy as np\n",
    "import matplotlib.pyplot as plt\n",
    "%matplotlib inline"
   ],
   "outputs": [],
   "metadata": {}
  },
  {
   "cell_type": "markdown",
   "source": [
    "## Load MNIST Dataset\n",
    "The **mnist_data_loader.py** is a script to load mnist dataset, which is included in [TensorFlow tutorial](https://github.com/tensorflow/tensorflow/blob/r0.7/tensorflow/examples/tutorials/mnist/input_data.py)."
   ],
   "metadata": {}
  },
  {
   "cell_type": "code",
   "execution_count": 5,
   "source": [
    "import mnist_data_loader\n",
    "\n",
    "mnist_dataset = mnist_data_loader.read_data_sets(\"./MNIST_data/\", one_hot=True)\n",
    "\n",
    "# training dataset\n",
    "train_set = mnist_dataset.train \n",
    "# test dataset\n",
    "test_set = mnist_dataset.test   \n",
    "\n",
    "train_size = train_set.num_examples\n",
    "test_size = test_set.num_examples\n",
    "print()\n",
    "print('Training dataset size: ', train_size)\n",
    "print('Test dataset size: ', test_size)"
   ],
   "outputs": [
    {
     "output_type": "stream",
     "name": "stdout",
     "text": [
      "Extracting ./MNIST_data/train-images-idx3-ubyte.gz\n",
      "Extracting ./MNIST_data/train-labels-idx1-ubyte.gz\n",
      "Extracting ./MNIST_data/t10k-images-idx3-ubyte.gz\n",
      "Extracting ./MNIST_data/t10k-labels-idx1-ubyte.gz\n",
      "\n",
      "Training dataset size:  60000\n",
      "Test dataset size:  10000\n"
     ]
    }
   ],
   "metadata": {}
  },
  {
   "cell_type": "markdown",
   "source": [
    "## Data Example\n",
    "To have a better understand of MNIST dataset, we can visualize some examples in MNIST."
   ],
   "metadata": {}
  },
  {
   "cell_type": "code",
   "execution_count": 6,
   "source": [
    "# You can choose any image in training set to visualize, example_id ∈ [0,60000)\n",
    "example_id = 0 \n",
    "\n",
    "image = train_set.images[example_id] # shape = 784 (28*28)\n",
    "label = train_set.labels[example_id] # shape = 10\n",
    "# print(image)\n",
    "print(label)\n",
    "plt.imshow(np.reshape(image,[28,28]))"
   ],
   "outputs": [
    {
     "output_type": "stream",
     "name": "stdout",
     "text": [
      "[0. 0. 0. 0. 0. 1. 0. 0. 0. 0.]\n"
     ]
    },
    {
     "output_type": "execute_result",
     "data": {
      "text/plain": [
       "<matplotlib.image.AxesImage at 0x7fd191cda3c8>"
      ]
     },
     "metadata": {},
     "execution_count": 6
    },
    {
     "output_type": "display_data",
     "data": {
      "image/png": "[encoded data removed]",
      "text/plain": [
       "<Figure size 432x288 with 1 Axes>"
      ]
     },
     "metadata": {
      "needs_background": "light"
     }
    }
   ],
   "metadata": {}
  },
  {
   "cell_type": "markdown",
   "source": [
    "## Set Hyerparameters\n",
    "You can modify hyerparameters by yourself."
   ],
   "metadata": {}
  },
  {
   "cell_type": "code",
   "execution_count": 51,
   "source": [
    "batch_size = 100\n",
    "max_epoch = 5\n",
    "learning_rate = 0.1\n",
    "\n",
    "# For regularization\n",
    "lamda = 0.05"
   ],
   "outputs": [],
   "metadata": {}
  },
  {
   "cell_type": "markdown",
   "source": [
    "### TODO\n",
    "Before executing the following code, you should accomplish **./softmax_classifier.py**."
   ],
   "metadata": {}
  },
  {
   "cell_type": "code",
   "execution_count": 52,
   "source": [
    "from softmax_classifier import softmax_classifier"
   ],
   "outputs": [],
   "metadata": {}
  },
  {
   "cell_type": "markdown",
   "source": [
    "## Train"
   ],
   "metadata": {}
  },
  {
   "cell_type": "code",
   "execution_count": 53,
   "source": [
    "# Weight Initialization\n",
    "W = np.random.randn(28*28, 10) * 0.001\n",
    "\n",
    "loss_set = []\n",
    "accu_set = []\n",
    "disp_freq = 100\n",
    "\n",
    "# Training process\n",
    "for epoch in range(0, max_epoch):\n",
    "    iter_per_batch = train_size // batch_size\n",
    "    for batch_id in range(0, iter_per_batch):\n",
    "        batch = train_set.next_batch(batch_size) # get data of next batch\n",
    "        input, label = batch\n",
    "        # softmax_classifier\n",
    "        loss, gradient, prediction = softmax_classifier(W, input , label, lamda)\n",
    "        \n",
    "        # Calculate accuracy\n",
    "        label = np.argmax(label, axis=1).reshape(input.shape[0],1) # scalar representation\n",
    "        accuracy = np.sum(prediction == label) / float(len(label))\n",
    "\n",
    "        loss_set.append(loss)\n",
    "        accu_set.append(accuracy)\n",
    "        \n",
    "        # Update weights\n",
    "        W = W - (learning_rate * gradient)\n",
    "        if batch_id % disp_freq == 0:\n",
    "            print(\"Epoch [{}][{}]\\t Batch [{}][{}]\\t Training Loss {:.4f}\\t Accuracy {:.4f}\".format(\n",
    "                epoch, max_epoch, batch_id, iter_per_batch, \n",
    "                loss, accuracy))\n",
    "    print()"
   ],
   "outputs": [
    {
     "output_type": "stream",
     "name": "stdout",
     "text": [
      "Epoch [0][5]\t Batch [0][600]\t Training Loss 2.3034\t Accuracy 0.0800\n",
      "Epoch [0][5]\t Batch [100][600]\t Training Loss 0.6330\t Accuracy 0.8700\n",
      "Epoch [0][5]\t Batch [200][600]\t Training Loss 0.5151\t Accuracy 0.8800\n",
      "Epoch [0][5]\t Batch [300][600]\t Training Loss 0.4824\t Accuracy 0.8800\n",
      "Epoch [0][5]\t Batch [400][600]\t Training Loss 0.4584\t Accuracy 0.9000\n",
      "Epoch [0][5]\t Batch [500][600]\t Training Loss 0.3577\t Accuracy 0.9400\n",
      "\n",
      "Epoch [1][5]\t Batch [0][600]\t Training Loss 0.4222\t Accuracy 0.9000\n",
      "Epoch [1][5]\t Batch [100][600]\t Training Loss 0.4119\t Accuracy 0.8900\n",
      "Epoch [1][5]\t Batch [200][600]\t Training Loss 0.3609\t Accuracy 0.9100\n",
      "Epoch [1][5]\t Batch [300][600]\t Training Loss 0.6225\t Accuracy 0.8700\n",
      "Epoch [1][5]\t Batch [400][600]\t Training Loss 0.3417\t Accuracy 0.9100\n",
      "Epoch [1][5]\t Batch [500][600]\t Training Loss 0.4098\t Accuracy 0.9200\n",
      "\n",
      "Epoch [2][5]\t Batch [0][600]\t Training Loss 0.4656\t Accuracy 0.8900\n",
      "Epoch [2][5]\t Batch [100][600]\t Training Loss 0.4468\t Accuracy 0.9100\n",
      "Epoch [2][5]\t Batch [200][600]\t Training Loss 0.4435\t Accuracy 0.8800\n",
      "Epoch [2][5]\t Batch [300][600]\t Training Loss 0.4566\t Accuracy 0.9400\n",
      "Epoch [2][5]\t Batch [400][600]\t Training Loss 0.4222\t Accuracy 0.9100\n",
      "Epoch [2][5]\t Batch [500][600]\t Training Loss 0.4198\t Accuracy 0.9100\n",
      "\n",
      "Epoch [3][5]\t Batch [0][600]\t Training Loss 0.5005\t Accuracy 0.8900\n",
      "Epoch [3][5]\t Batch [100][600]\t Training Loss 0.3659\t Accuracy 0.9100\n",
      "Epoch [3][5]\t Batch [200][600]\t Training Loss 0.4457\t Accuracy 0.9000\n",
      "Epoch [3][5]\t Batch [300][600]\t Training Loss 0.5951\t Accuracy 0.8700\n",
      "Epoch [3][5]\t Batch [400][600]\t Training Loss 0.4110\t Accuracy 0.8800\n",
      "Epoch [3][5]\t Batch [500][600]\t Training Loss 0.4954\t Accuracy 0.9100\n",
      "\n",
      "Epoch [4][5]\t Batch [0][600]\t Training Loss 0.4195\t Accuracy 0.9200\n",
      "Epoch [4][5]\t Batch [100][600]\t Training Loss 0.6243\t Accuracy 0.8600\n",
      "Epoch [4][5]\t Batch [200][600]\t Training Loss 0.6000\t Accuracy 0.8700\n",
      "Epoch [4][5]\t Batch [300][600]\t Training Loss 0.4637\t Accuracy 0.8900\n",
      "Epoch [4][5]\t Batch [400][600]\t Training Loss 0.4550\t Accuracy 0.9000\n",
      "Epoch [4][5]\t Batch [500][600]\t Training Loss 0.4548\t Accuracy 0.9100\n",
      "\n"
     ]
    }
   ],
   "metadata": {
    "scrolled": true
   }
  },
  {
   "cell_type": "markdown",
   "source": [
    "## Test"
   ],
   "metadata": {}
  },
  {
   "cell_type": "code",
   "execution_count": 59,
   "source": [
    "correct = 0\n",
    "iter_per_batch = test_size // batch_size\n",
    "\n",
    "# Test process\n",
    "for batch_id in range(0, iter_per_batch):\n",
    "    batch = test_set.next_batch(batch_size)\n",
    "    data, label = batch\n",
    "    \n",
    "    # We only need prediction results in testing\n",
    "    _,_, prediction = softmax_classifier(W, data , label, lamda)\n",
    "    label = np.argmax(label, axis=1).reshape(input.shape[0],1)\n",
    "    correct += sum(prediction == label)\n",
    "    \n",
    "accuracy = correct * 1.0 / test_size\n",
    "print('Test Accuracy: ', accuracy)"
   ],
   "outputs": [
    {
     "output_type": "stream",
     "name": "stdout",
     "text": [
      "Test Accuracy:  [0.9161]\n"
     ]
    }
   ],
   "metadata": {
    "scrolled": true
   }
  },
  {
   "cell_type": "markdown",
   "source": [
    "## Plot"
   ],
   "metadata": {}
  },
  {
   "cell_type": "code",
   "execution_count": 11,
   "source": [
    "# training loss curve\n",
    "plt.figure()\n",
    "plt.plot(loss_set, 'b--')\n",
    "plt.xlabel('iteration')\n",
    "plt.ylabel('loss')\n",
    "# training accuracy curve\n",
    "plt.figure()\n",
    "plt.plot(accu_set, 'r--')\n",
    "plt.xlabel('iteration')\n",
    "plt.ylabel('accuracy')"
   ],
   "outputs": [
    {
     "output_type": "execute_result",
     "data": {
      "text/plain": [
       "Text(0, 0.5, 'accuracy')"
      ]
     },
     "metadata": {},
     "execution_count": 11
    },
    {
     "output_type": "display_data",
     "data": {
      "image/png": "[encoded data removed]",
      "text/plain": [
       "<Figure size 432x288 with 1 Axes>"
      ]
     },
     "metadata": {
      "needs_background": "light"
     }
    },
    {
     "output_type": "display_data",
     "data": {
      "image/png": "[encoded data removed]",
      "text/plain": [
       "<Figure size 432x288 with 1 Axes>"
      ]
     },
     "metadata": {
      "needs_background": "light"
     }
    }
   ],
   "metadata": {
    "scrolled": false
   }
  },
  {
   "cell_type": "markdown",
   "source": [
    "### You have finished homework2, congratulations!"
   ],
   "metadata": {}
  },
  {
   "cell_type": "markdown",
   "source": [],
   "metadata": {}
  }
 ],
 "metadata": {
  "kernelspec": {
   "name": "python3",
   "display_name": "Python 3.6.13 64-bit ('python36': conda)"
  },
  "language_info": {
   "codemirror_mode": {
    "name": "ipython",
    "version": 3
   },
   "file_extension": ".py",
   "mimetype": "text/x-python",
   "name": "python",
   "nbconvert_exporter": "python",
   "pygments_lexer": "ipython3",
   "version": "3.6.13"
  },
  "interpreter": {
   "hash": "c718e5b25c7e8d193a267a7d7a9a06e79021d34eb3108d142ea3d59683b06ea9"
  }
 },
 "nbformat": 4,
 "nbformat_minor": 2
}